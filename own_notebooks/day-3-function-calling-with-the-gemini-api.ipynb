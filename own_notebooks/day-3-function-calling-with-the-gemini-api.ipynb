{
 "cells": [
  {
   "cell_type": "markdown",
   "metadata": {
    "id": "4a7d3bb68371"
   },
   "source": [
    "# Day 3 - Function calling with the Gemini API\n",
    "\n",
    "Welcome back to the Kaggle 5-day Generative AI course!\n",
    "\n",
    "In this notebook, you will use the Gemini API's automatic function calling to build a chat interface over a local database. This example is a toy and is missing a number of safety and security constraints you would use in a real-world example.\n",
    "\n",
    "## For help\n",
    "\n",
    "**Common issues are covered in the [FAQ and troubleshooting guide](https://www.kaggle.com/code/markishere/day-0-troubleshooting-and-faqs).**"
   ]
  },
  {
   "cell_type": "markdown",
   "metadata": {
    "id": "ea197d1d464f"
   },
   "source": [
    "## Setup\n",
    "\n",
    "Start by installing and importing the Python SDK."
   ]
  },
  {
   "cell_type": "code",
   "execution_count": 1,
   "metadata": {
    "id": "02bb0f551e25"
   },
   "outputs": [],
   "source": [
    "import google.generativeai as genai"
   ]
  },
  {
   "cell_type": "code",
   "execution_count": 2,
   "metadata": {
    "id": "5cc8325f051d"
   },
   "outputs": [],
   "source": [
    "from api_config import get_api_key\n",
    "\n",
    "GOOGLE_API_KEY = get_api_key()\n",
    "\n",
    "genai.configure(api_key=GOOGLE_API_KEY)"
   ]
  },
  {
   "cell_type": "markdown",
   "metadata": {
    "id": "ed8fc6062c62"
   },
   "source": [
    "## Create a local database\n",
    "\n",
    "For this minimal example, you'll create a local SQLite database and add some synthetic data so you have something to query.\n",
    "\n",
    "Load the `sql` IPython extension so you can interact with the database using magic commands (the `%` instructions) to create a new, empty SQLite database."
   ]
  },
  {
   "cell_type": "code",
   "execution_count": 7,
   "metadata": {
    "id": "c98a627ef07b"
   },
   "outputs": [
    {
     "name": "stdout",
     "output_type": "stream",
     "text": [
      "The sql extension is already loaded. To reload it, use:\n",
      "  %reload_ext sql\n"
     ]
    }
   ],
   "source": [
    "%load_ext sql\n",
    "%sql sqlite:///sample.db"
   ]
  },
  {
   "cell_type": "markdown",
   "metadata": {
    "id": "14e7bc18b8af"
   },
   "source": [
    "Create the tables and insert some synthetic data. Feel free to tweak this structure and data."
   ]
  },
  {
   "cell_type": "code",
   "execution_count": 8,
   "metadata": {
    "id": "4e186de46cf1"
   },
   "outputs": [
    {
     "name": "stdout",
     "output_type": "stream",
     "text": [
      " * sqlite:///sample.db\n",
      "Done.\n",
      "Done.\n",
      "Done.\n",
      "3 rows affected.\n",
      "3 rows affected.\n",
      "3 rows affected.\n"
     ]
    },
    {
     "data": {
      "text/plain": [
       "[]"
      ]
     },
     "execution_count": 8,
     "metadata": {},
     "output_type": "execute_result"
    }
   ],
   "source": [
    "%%sql\n",
    "-- Create the 'products' table\n",
    "CREATE TABLE IF NOT EXISTS products (\n",
    "  \tproduct_id INTEGER PRIMARY KEY AUTOINCREMENT,\n",
    "  \tproduct_name VARCHAR(255) NOT NULL,\n",
    "  \tprice DECIMAL(10, 2) NOT NULL\n",
    "  );\n",
    "\n",
    "-- Create the 'staff' table\n",
    "CREATE TABLE IF NOT EXISTS staff (\n",
    "  \tstaff_id INTEGER PRIMARY KEY AUTOINCREMENT,\n",
    "  \tfirst_name VARCHAR(255) NOT NULL,\n",
    "  \tlast_name VARCHAR(255) NOT NULL\n",
    "  );\n",
    "\n",
    "-- Create the 'orders' table\n",
    "CREATE TABLE IF NOT EXISTS orders (\n",
    "  \torder_id INTEGER PRIMARY KEY AUTOINCREMENT,\n",
    "  \tcustomer_name VARCHAR(255) NOT NULL,\n",
    "  \tstaff_id INTEGER NOT NULL,\n",
    "  \tproduct_id INTEGER NOT NULL,\n",
    "  \tFOREIGN KEY (staff_id) REFERENCES staff (staff_id),\n",
    "  \tFOREIGN KEY (product_id) REFERENCES products (product_id)\n",
    "  );\n",
    "\n",
    "-- Insert data into the 'products' table\n",
    "INSERT INTO products (product_name, price) VALUES\n",
    "  \t('Laptop', 799.99),\n",
    "  \t('Keyboard', 129.99),\n",
    "  \t('Mouse', 29.99);\n",
    "\n",
    "-- Insert data into the 'staff' table\n",
    "INSERT INTO staff (first_name, last_name) VALUES\n",
    "  \t('Alice', 'Smith'),\n",
    "  \t('Bob', 'Johnson'),\n",
    "  \t('Charlie', 'Williams');\n",
    "\n",
    "-- Insert data into the 'orders' table\n",
    "INSERT INTO orders (customer_name, staff_id, product_id) VALUES\n",
    "  \t('David Lee', 1, 1),\n",
    "  \t('Emily Chen', 2, 2),\n",
    "  \t('Frank Brown', 1, 3);"
   ]
  },
  {
   "cell_type": "markdown",
   "metadata": {
    "id": "83901899a79b"
   },
   "source": [
    "## Define database functions\n",
    "\n",
    "Function calling with Gemini API's Python SDK can be implemented by defining [an OpenAPI schema](https://ai.google.dev/api/caching#Schema) that is passed to the model. Alternatively you can define Python functions and let the SDK inspect them to automatically define the schema. In this latter case, it's important that the functions are type annotated and have accurate docstrings that describe what the functions do - the model has no insight into the function body, so the docs function as the interface.\n",
    "\n",
    "By providing three key pieces of functionality - listing tables, describing a table, and executing a query - the LLM (or even another user) will have the basic tools needed to understand and interrogate the database.\n",
    "\n",
    "Start with a database connection that will be used across all of the functions."
   ]
  },
  {
   "cell_type": "code",
   "execution_count": 9,
   "metadata": {
    "id": "437168bc6b6e"
   },
   "outputs": [],
   "source": [
    "import sqlite3\n",
    "\n",
    "db_file = \"sample.db\"\n",
    "db_conn = sqlite3.connect(db_file)"
   ]
  },
  {
   "cell_type": "markdown",
   "metadata": {
    "id": "b68b1a2c37d9"
   },
   "source": [
    "The first function will list all tables available in the database. Define it, and test it out to ensure it works."
   ]
  },
  {
   "cell_type": "code",
   "execution_count": 10,
   "metadata": {
    "id": "bdb0e4d2bb4b"
   },
   "outputs": [
    {
     "name": "stdout",
     "output_type": "stream",
     "text": [
      " - DB CALL: list_tables\n"
     ]
    },
    {
     "data": {
      "text/plain": [
       "['products', 'sqlite_sequence', 'staff', 'orders']"
      ]
     },
     "execution_count": 10,
     "metadata": {},
     "output_type": "execute_result"
    }
   ],
   "source": [
    "def list_tables() -> list[str]:\n",
    "    \"\"\"Retrieve the names of all tables in the database.\"\"\"\n",
    "    # Include print logging statements so you can see when functions are being called.\n",
    "    print(' - DB CALL: list_tables')\n",
    "\n",
    "    cursor = db_conn.cursor()\n",
    "\n",
    "    # Fetch the table names.\n",
    "    cursor.execute(\"SELECT name FROM sqlite_master WHERE type='table';\")\n",
    "\n",
    "    tables = cursor.fetchall()\n",
    "    return [t[0] for t in tables]\n",
    "\n",
    "\n",
    "list_tables()"
   ]
  },
  {
   "cell_type": "markdown",
   "metadata": {
    "id": "b6c010b1b6c2"
   },
   "source": [
    "Once the available tables is known, the next step a database user will need is to understand what columns are available in a given table. Define that too, and test that it works as expected."
   ]
  },
  {
   "cell_type": "code",
   "execution_count": 11,
   "metadata": {
    "id": "ecdb109298c4"
   },
   "outputs": [
    {
     "name": "stdout",
     "output_type": "stream",
     "text": [
      " - DB CALL: describe_table\n"
     ]
    },
    {
     "data": {
      "text/plain": [
       "[('product_id', 'INTEGER'),\n",
       " ('product_name', 'VARCHAR(255)'),\n",
       " ('price', 'DECIMAL(10, 2)')]"
      ]
     },
     "execution_count": 11,
     "metadata": {},
     "output_type": "execute_result"
    }
   ],
   "source": [
    "def describe_table(table_name: str) -> list[tuple[str, str]]:\n",
    "    \"\"\"Look up the table schema.\n",
    "\n",
    "    Returns:\n",
    "      List of columns, where each entry is a tuple of (column, type).\n",
    "    \"\"\"\n",
    "    print(' - DB CALL: describe_table')\n",
    "\n",
    "    cursor = db_conn.cursor()\n",
    "\n",
    "    cursor.execute(f\"PRAGMA table_info({table_name});\")\n",
    "\n",
    "    schema = cursor.fetchall()\n",
    "    # [column index, column name, column type, ...]\n",
    "    return [(col[1], col[2]) for col in schema]\n",
    "\n",
    "\n",
    "describe_table(\"products\")"
   ]
  },
  {
   "cell_type": "markdown",
   "metadata": {
    "id": "f6053a2ca272"
   },
   "source": [
    "Now that the system knows what tables and columns are present, it has enough information to be able to generate and run a `SELECT` query. Now provide that functionality, and test that it works."
   ]
  },
  {
   "cell_type": "code",
   "execution_count": 12,
   "metadata": {
    "id": "9e405db8b3f6"
   },
   "outputs": [
    {
     "name": "stdout",
     "output_type": "stream",
     "text": [
      " - DB CALL: execute_query\n"
     ]
    },
    {
     "data": {
      "text/plain": [
       "[(1, 'Laptop', 799.99), (2, 'Keyboard', 129.99), (3, 'Mouse', 29.99)]"
      ]
     },
     "execution_count": 12,
     "metadata": {},
     "output_type": "execute_result"
    }
   ],
   "source": [
    "def execute_query(sql: str) -> list[list[str]]:\n",
    "    \"\"\"Execute a SELECT statement, returning the results.\"\"\"\n",
    "    print(' - DB CALL: execute_query')\n",
    "\n",
    "    cursor = db_conn.cursor()\n",
    "\n",
    "    cursor.execute(sql)\n",
    "    return cursor.fetchall()\n",
    "\n",
    "\n",
    "execute_query(\"select * from products\")"
   ]
  },
  {
   "cell_type": "markdown",
   "metadata": {
    "id": "ac464dfb35a0"
   },
   "source": [
    "## Implement function calls\n",
    "\n",
    "Now you can put it all together in a call to the Gemini API.\n",
    "\n",
    "Function calling works by adding specific messages to a chat session. When function schemas are defined and made available to the model and a conversation is started, instead of returning a text response, the model may return a `function_call` instead. When this happens, the client must respond with a `function_response`, indicating the result of the call, and the conversation can continue on as normal.\n",
    "\n",
    "This function calling interaction normally happens manually, allowing you, the client, to validate and initiate the call. However the Python SDK also supports **automatic function calling**, where the supplied functions will be automatically invoked. This is a powerful feature and should only be exposed when it is safe to do so, such as when the functions have no [side-effects](https://en.wikipedia.org/wiki/Side_effect_(computer_science)).\n",
    "\n",
    "Here's the state diagram representing the conversation flow with function calling. With automatic function calling, the bottom row is executed automatically by the Python SDK. In manual function calling, you write the code to run each step individually.\n",
    "\n",
    "![function calling state diagram](https://codelabs.developers.google.com/static/codelabs/gemini-function-calling/img/gemini-function-calling-overview_1440.png)"
   ]
  },
  {
   "cell_type": "code",
   "execution_count": 13,
   "metadata": {
    "id": "f4839540066d"
   },
   "outputs": [],
   "source": [
    "# These are the Python functions defined above.\n",
    "db_tools = [list_tables, describe_table, execute_query]\n",
    "\n",
    "instruction = \"\"\"You are a helpful chatbot that can interact with an SQL database for a computer\n",
    "store. You will take the users questions and turn them into SQL queries using the tools\n",
    "available. Once you have the information you need, you will answer the user's question using\n",
    "the data returned. Use list_tables to see what tables are present, describe_table to understand\n",
    "the schema, and execute_query to issue an SQL SELECT query.\"\"\"\n",
    "\n",
    "model = genai.GenerativeModel(\n",
    "    \"models/gemini-1.5-flash-latest\", tools=db_tools, system_instruction=instruction\n",
    ")\n",
    "\n",
    "# Define a retry policy. The model might make multiple consecutive calls automatically\n",
    "# for a complex query, this ensures the client retries if it hits quota limits.\n",
    "from google.api_core import retry\n",
    "\n",
    "retry_policy = {\"retry\": retry.Retry(predicate=retry.if_transient_error)}\n",
    "\n",
    "# Start a chat with automatic function calling enabled.\n",
    "chat = model.start_chat(enable_automatic_function_calling=True)"
   ]
  },
  {
   "cell_type": "markdown",
   "metadata": {
    "id": "5f120977f1ee"
   },
   "source": [
    "Now you can engage in a chat conversation where you can ask about the contents of the database."
   ]
  },
  {
   "cell_type": "code",
   "execution_count": 14,
   "metadata": {
    "id": "111cfb79338b"
   },
   "outputs": [
    {
     "name": "stdout",
     "output_type": "stream",
     "text": [
      " - DB CALL: list_tables\n",
      " - DB CALL: describe_table\n",
      " - DB CALL: execute_query\n",
      "The cheapest product is the Mouse, costing $29.99.\n",
      "\n"
     ]
    }
   ],
   "source": [
    "resp = chat.send_message(\"What is the cheapest product?\", request_options=retry_policy)\n",
    "print(resp.text)"
   ]
  },
  {
   "cell_type": "markdown",
   "metadata": {
    "id": "43595d4ef920"
   },
   "source": [
    "If you re-use the same [`ChatSession`](https://github.com/google-gemini/generative-ai-python/blob/main/docs/api/google/generativeai/ChatSession.md) object, the conversation will continue statefully. If you wish to start fresh, you can call [`start_chat`](https://github.com/google-gemini/generative-ai-python/blob/main/docs/api/google/generativeai/GenerativeModel.md#start_chat) again, or call [`rewind`](https://github.com/google-gemini/generative-ai-python/blob/main/docs/api/google/generativeai/ChatSession.md#rewind) on the chat object to go back a turn.\n",
    "\n",
    "Continue the chat here by asking a follow-up question. Note that the database information is preserved, and the context of the specific product is inferred."
   ]
  },
  {
   "cell_type": "code",
   "execution_count": 15,
   "metadata": {
    "id": "647cbcc43993"
   },
   "outputs": [
    {
     "name": "stdout",
     "output_type": "stream",
     "text": [
      "The Mouse costs $29.99.\n",
      "\n"
     ]
    }
   ],
   "source": [
    "resp = chat.send_message(\"and how much is it?\", request_options=retry_policy)\n",
    "print(resp.text)"
   ]
  },
  {
   "cell_type": "markdown",
   "metadata": {
    "id": "d67f635191c8"
   },
   "source": [
    "Explore the chat session and ask your own questions. If you want to try asking more complex questions, try using the `gemini-1.5-pro` model. It has a lower rate limit, so calls might take a bit longer on the free tier, but you'll notice an improvement in expressivity."
   ]
  },
  {
   "cell_type": "code",
   "execution_count": 16,
   "metadata": {
    "id": "647cbcc43993"
   },
   "outputs": [
    {
     "name": "stdout",
     "output_type": "stream",
     "text": [
      " - DB CALL: list_tables\n",
      " - DB CALL: describe_table\n",
      " - DB CALL: describe_table\n",
      " - DB CALL: describe_table\n",
      " - DB CALL: execute_query\n",
      "Alice Smith sold the cheapest product.\n"
     ]
    }
   ],
   "source": [
    "model = genai.GenerativeModel(\n",
    "    \"models/gemini-1.5-pro-latest\", tools=db_tools, system_instruction=instruction\n",
    ")\n",
    "\n",
    "chat = model.start_chat(enable_automatic_function_calling=True)\n",
    "response = chat.send_message('Which salesperson sold the cheapest product?', request_options=retry_policy)\n",
    "print(response.text)"
   ]
  },
  {
   "cell_type": "markdown",
   "metadata": {
    "id": "1f5bb6d9bd6a"
   },
   "source": [
    "### Inspecting the conversation\n",
    "\n",
    "To see the calls that the model makes, and what the client returns in response, you can inspect `chat.history`. This helper function will print out each turn along with the relevant fields passed or returned."
   ]
  },
  {
   "cell_type": "code",
   "execution_count": 17,
   "metadata": {
    "id": "639963cc64e2"
   },
   "outputs": [
    {
     "name": "stdout",
     "output_type": "stream",
     "text": [
      "User:\n",
      "  \"Which salesperson sold the cheapest product?\"\n",
      "\n",
      "Model:\n",
      "  Function call: list_tables()\n",
      "\n",
      "User:\n",
      "  Function response:\n",
      "    name: \"list_tables\"\n",
      "    response {\n",
      "      fields {\n",
      "        key: \"result\"\n",
      "        value {\n",
      "          list_value {\n",
      "            values {\n",
      "              string_value: \"products\"\n",
      "            }\n",
      "            values {\n",
      "              string_value: \"sqlite_sequence\"\n",
      "            }\n",
      "            values {\n",
      "              string_value: \"staff\"\n",
      "            }\n",
      "            values {\n",
      "              string_value: \"orders\"\n",
      "            }\n",
      "          }\n",
      "        }\n",
      "      }\n",
      "    }\n",
      "\n",
      "\n",
      "Model:\n",
      "  Function call: describe_table(table_name=products)\n",
      "\n",
      "User:\n",
      "  Function response:\n",
      "    name: \"describe_table\"\n",
      "    response {\n",
      "      fields {\n",
      "        key: \"result\"\n",
      "        value {\n",
      "          list_value {\n",
      "            values {\n",
      "              list_value {\n",
      "                values {\n",
      "                  string_value: \"product_id\"\n",
      "                }\n",
      "                values {\n",
      "                  string_value: \"INTEGER\"\n",
      "                }\n",
      "              }\n",
      "            }\n",
      "            values {\n",
      "              list_value {\n",
      "                values {\n",
      "                  string_value: \"product_name\"\n",
      "                }\n",
      "                values {\n",
      "                  string_value: \"VARCHAR(255)\"\n",
      "                }\n",
      "              }\n",
      "            }\n",
      "            values {\n",
      "              list_value {\n",
      "                values {\n",
      "                  string_value: \"price\"\n",
      "                }\n",
      "                values {\n",
      "                  string_value: \"DECIMAL(10, 2)\"\n",
      "                }\n",
      "              }\n",
      "            }\n",
      "          }\n",
      "        }\n",
      "      }\n",
      "    }\n",
      "\n",
      "\n",
      "Model:\n",
      "  Function call: describe_table(table_name=staff)\n",
      "\n",
      "User:\n",
      "  Function response:\n",
      "    name: \"describe_table\"\n",
      "    response {\n",
      "      fields {\n",
      "        key: \"result\"\n",
      "        value {\n",
      "          list_value {\n",
      "            values {\n",
      "              list_value {\n",
      "                values {\n",
      "                  string_value: \"staff_id\"\n",
      "                }\n",
      "                values {\n",
      "                  string_value: \"INTEGER\"\n",
      "                }\n",
      "              }\n",
      "            }\n",
      "            values {\n",
      "              list_value {\n",
      "                values {\n",
      "                  string_value: \"first_name\"\n",
      "                }\n",
      "                values {\n",
      "                  string_value: \"VARCHAR(255)\"\n",
      "                }\n",
      "              }\n",
      "            }\n",
      "            values {\n",
      "              list_value {\n",
      "                values {\n",
      "                  string_value: \"last_name\"\n",
      "                }\n",
      "                values {\n",
      "                  string_value: \"VARCHAR(255)\"\n",
      "                }\n",
      "              }\n",
      "            }\n",
      "          }\n",
      "        }\n",
      "      }\n",
      "    }\n",
      "\n",
      "\n",
      "Model:\n",
      "  Function call: describe_table(table_name=orders)\n",
      "\n",
      "User:\n",
      "  Function response:\n",
      "    name: \"describe_table\"\n",
      "    response {\n",
      "      fields {\n",
      "        key: \"result\"\n",
      "        value {\n",
      "          list_value {\n",
      "            values {\n",
      "              list_value {\n",
      "                values {\n",
      "                  string_value: \"order_id\"\n",
      "                }\n",
      "                values {\n",
      "                  string_value: \"INTEGER\"\n",
      "                }\n",
      "              }\n",
      "            }\n",
      "            values {\n",
      "              list_value {\n",
      "                values {\n",
      "                  string_value: \"customer_name\"\n",
      "                }\n",
      "                values {\n",
      "                  string_value: \"VARCHAR(255)\"\n",
      "                }\n",
      "              }\n",
      "            }\n",
      "            values {\n",
      "              list_value {\n",
      "                values {\n",
      "                  string_value: \"staff_id\"\n",
      "                }\n",
      "                values {\n",
      "                  string_value: \"INTEGER\"\n",
      "                }\n",
      "              }\n",
      "            }\n",
      "            values {\n",
      "              list_value {\n",
      "                values {\n",
      "                  string_value: \"product_id\"\n",
      "                }\n",
      "                values {\n",
      "                  string_value: \"INTEGER\"\n",
      "                }\n",
      "              }\n",
      "            }\n",
      "          }\n",
      "        }\n",
      "      }\n",
      "    }\n",
      "\n",
      "\n",
      "Model:\n",
      "  Function call: execute_query(sql=SELECT staff.first_name, staff.last_name FROM products INNER JOIN orders ON products.product_id = orders.product_id INNER JOIN staff ON orders.staff_id = staff.staff_id ORDER BY products.price ASC LIMIT 1)\n",
      "\n",
      "User:\n",
      "  Function response:\n",
      "    name: \"execute_query\"\n",
      "    response {\n",
      "      fields {\n",
      "        key: \"result\"\n",
      "        value {\n",
      "          list_value {\n",
      "            values {\n",
      "              list_value {\n",
      "                values {\n",
      "                  string_value: \"Alice\"\n",
      "                }\n",
      "                values {\n",
      "                  string_value: \"Smith\"\n",
      "                }\n",
      "              }\n",
      "            }\n",
      "          }\n",
      "        }\n",
      "      }\n",
      "    }\n",
      "\n",
      "\n",
      "Model:\n",
      "  \"Alice Smith sold the cheapest product.\"\n",
      "\n"
     ]
    }
   ],
   "source": [
    "import textwrap\n",
    "\n",
    "\n",
    "def print_chat_turns(chat):\n",
    "    \"\"\"Prints out each turn in the chat history, including function calls and responses.\"\"\"\n",
    "    for event in chat.history:\n",
    "        print(f\"{event.role.capitalize()}:\")\n",
    "\n",
    "        for part in event.parts:\n",
    "            if txt := part.text:\n",
    "                print(f'  \"{txt}\"')\n",
    "            elif fn := part.function_call:\n",
    "                args = \", \".join(f\"{key}={val}\" for key, val in fn.args.items())\n",
    "                print(f\"  Function call: {fn.name}({args})\")\n",
    "            elif resp := part.function_response:\n",
    "                print(\"  Function response:\")\n",
    "                print(textwrap.indent(str(resp), \"    \"))\n",
    "\n",
    "        print()\n",
    "\n",
    "\n",
    "print_chat_turns(chat)"
   ]
  },
  {
   "cell_type": "markdown",
   "metadata": {
    "id": "8a17aeb2a3ef"
   },
   "source": [
    "In this output you can see each of the conversational turns that were made. Note that the model doesn't remember anything outside of a `ChatSession` object, so you can make changes to the database structure or data and the model will respond without needing any code changes - try this out!"
   ]
  },
  {
   "cell_type": "markdown",
   "metadata": {
    "id": "8a17aeb2a3ef"
   },
   "source": [
    "## Further reading\n",
    "\n",
    "To learn more about what the Gemini API can do with function calling, check out the [Function calling cookbook](https://github.com/google-gemini/cookbook/blob/main/quickstarts/Function_calling.ipynb) (see `Manual function calling` to understand how function calling works manually) as well as [Function calling config](https://github.com/google-gemini/cookbook/blob/main/quickstarts/Function_calling_config.ipynb), which gives you fine-grained control over how function calling is triggered."
   ]
  }
 ],
 "metadata": {
  "colab": {
   "name": "day-3-function-calling-with-the-gemini-api.ipynb",
   "toc_visible": true
  },
  "kaggle": {
   "accelerator": "none",
   "dataSources": [],
   "dockerImageVersionId": 30786,
   "isGpuEnabled": false,
   "isInternetEnabled": true,
   "language": "python",
   "sourceType": "notebook"
  },
  "kernelspec": {
   "display_name": "Python 3 (ipykernel)",
   "language": "python",
   "name": "python3"
  },
  "language_info": {
   "codemirror_mode": {
    "name": "ipython",
    "version": 3
   },
   "file_extension": ".py",
   "mimetype": "text/x-python",
   "name": "python",
   "nbconvert_exporter": "python",
   "pygments_lexer": "ipython3",
   "version": "3.12.0"
  }
 },
 "nbformat": 4,
 "nbformat_minor": 4
}
